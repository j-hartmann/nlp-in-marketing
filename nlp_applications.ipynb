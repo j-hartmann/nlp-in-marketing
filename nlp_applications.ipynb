{
  "nbformat": 4,
  "nbformat_minor": 0,
  "metadata": {
    "colab": {
      "name": "nlp_applications.ipynb",
      "provenance": [],
      "collapsed_sections": [],
      "authorship_tag": "ABX9TyObRLw25yf8Z+J3SbBT9S+W",
      "include_colab_link": true
    },
    "kernelspec": {
      "name": "python3",
      "display_name": "Python 3"
    },
    "language_info": {
      "name": "python"
    },
    "accelerator": "GPU"
  },
  "cells": [
    {
      "cell_type": "markdown",
      "metadata": {
        "id": "view-in-github",
        "colab_type": "text"
      },
      "source": [
        "<a href=\"https://colab.research.google.com/github/j-hartmann/nlp-in-marketing/blob/main/nlp_applications.ipynb\" target=\"_parent\"><img src=\"https://colab.research.google.com/assets/colab-badge.svg\" alt=\"Open In Colab\"/></a>"
      ]
    },
    {
      "cell_type": "markdown",
      "source": [
        "# Natural Language Processing in Marketing\n",
        "Oded Netzer (Columbia University) & Jochen Hartmann (University of Groningen)"
      ],
      "metadata": {
        "id": "e_xTiZK0BXYO"
      }
    },
    {
      "cell_type": "markdown",
      "source": [
        "## *Embeddings and vector semantics*"
      ],
      "metadata": {
        "id": "EPyOiTQVBb1d"
      }
    },
    {
      "cell_type": "code",
      "execution_count": null,
      "metadata": {
        "id": "utPHlTQ4xtBL"
      },
      "outputs": [],
      "source": [
        "import gensim.downloader"
      ]
    },
    {
      "cell_type": "markdown",
      "source": [
        "### word2vec"
      ],
      "metadata": {
        "id": "8M7NuJ7t8ReU"
      }
    },
    {
      "cell_type": "code",
      "source": [
        "w2v = gensim.downloader.load('word2vec-google-news-300')"
      ],
      "metadata": {
        "colab": {
          "base_uri": "https://localhost:8080/"
        },
        "id": "mPiVcMm7xwN6",
        "outputId": "c51e47ba-1499-4870-a28c-6a11b84e24c8"
      },
      "execution_count": null,
      "outputs": [
        {
          "output_type": "stream",
          "name": "stdout",
          "text": [
            "[==================================================] 100.0% 1662.8/1662.8MB downloaded\n"
          ]
        }
      ]
    },
    {
      "cell_type": "code",
      "source": [
        "w2v.most_similar('sofa')"
      ],
      "metadata": {
        "colab": {
          "base_uri": "https://localhost:8080/"
        },
        "id": "2bTquwpTxyy3",
        "outputId": "85d681bf-6470-444e-97d4-eea2728975cf"
      },
      "execution_count": null,
      "outputs": [
        {
          "output_type": "execute_result",
          "data": {
            "text/plain": [
              "[('couch', 0.8309178352355957),\n",
              " ('settee', 0.7764685750007629),\n",
              " ('sofas', 0.7543261051177979),\n",
              " ('loveseat', 0.7152645587921143),\n",
              " ('recliner', 0.7101271152496338),\n",
              " ('futon', 0.6624690294265747),\n",
              " ('leather_sofa', 0.6620596647262573),\n",
              " ('plush_sofa', 0.6556485295295715),\n",
              " ('ottoman', 0.6525834798812866),\n",
              " ('couches', 0.6501914262771606)]"
            ]
          },
          "metadata": {},
          "execution_count": 3
        }
      ]
    },
    {
      "cell_type": "code",
      "source": [
        "w2v.most_similar('couch')"
      ],
      "metadata": {
        "colab": {
          "base_uri": "https://localhost:8080/"
        },
        "id": "4QtLNnan4mhv",
        "outputId": "e97333ef-8f15-44ff-f2bc-88b746dc0dcf"
      },
      "execution_count": null,
      "outputs": [
        {
          "output_type": "execute_result",
          "data": {
            "text/plain": [
              "[('sofa', 0.8309179544448853),\n",
              " ('recliner', 0.7366936802864075),\n",
              " ('couches', 0.7016552090644836),\n",
              " ('comfy_couch', 0.6747691035270691),\n",
              " ('futon', 0.6523739695549011),\n",
              " ('al_Jabouri_slept', 0.6240309476852417),\n",
              " ('loveseat', 0.617920994758606),\n",
              " ('beanbag_chair', 0.616889476776123),\n",
              " ('recliner_chair', 0.6121512055397034),\n",
              " ('settee', 0.6086535453796387)]"
            ]
          },
          "metadata": {},
          "execution_count": 4
        }
      ]
    },
    {
      "cell_type": "code",
      "source": [
        "w2v.similarity('couch', 'sofa')"
      ],
      "metadata": {
        "colab": {
          "base_uri": "https://localhost:8080/"
        },
        "id": "QPGWDGd11_df",
        "outputId": "bcc9dee2-ea6d-4efd-8c27-e31256641354"
      },
      "execution_count": null,
      "outputs": [
        {
          "output_type": "execute_result",
          "data": {
            "text/plain": [
              "0.8309179"
            ]
          },
          "metadata": {},
          "execution_count": 5
        }
      ]
    },
    {
      "cell_type": "markdown",
      "source": [
        "### GloVe"
      ],
      "metadata": {
        "id": "VeREm0dr8N7M"
      }
    },
    {
      "cell_type": "code",
      "source": [
        "glove = gensim.downloader.load('glove-wiki-gigaword-300')"
      ],
      "metadata": {
        "colab": {
          "base_uri": "https://localhost:8080/"
        },
        "id": "JhjCaiam8VOR",
        "outputId": "ada3cb18-fa51-4c2e-a3a4-ee3e959f81cd"
      },
      "execution_count": null,
      "outputs": [
        {
          "output_type": "stream",
          "name": "stdout",
          "text": [
            "[==================================================] 100.0% 376.1/376.1MB downloaded\n"
          ]
        }
      ]
    },
    {
      "cell_type": "code",
      "source": [
        "glove.most_similar('sofa')"
      ],
      "metadata": {
        "colab": {
          "base_uri": "https://localhost:8080/"
        },
        "id": "D4ky50Rq8GWu",
        "outputId": "dccc56e2-7e1e-4c2d-fd20-7faf9ad3c103"
      },
      "execution_count": null,
      "outputs": [
        {
          "output_type": "execute_result",
          "data": {
            "text/plain": [
              "[('sofas', 0.6412794589996338),\n",
              " ('couch', 0.6295238733291626),\n",
              " ('couches', 0.5816987752914429),\n",
              " ('cushions', 0.5553663969039917),\n",
              " ('upholstered', 0.5553508996963501),\n",
              " ('comfy', 0.5491216778755188),\n",
              " ('armchairs', 0.5384072065353394),\n",
              " ('pillows', 0.514901876449585),\n",
              " ('recliner', 0.5056697130203247),\n",
              " ('overstuffed', 0.49476155638694763)]"
            ]
          },
          "metadata": {},
          "execution_count": 7
        }
      ]
    },
    {
      "cell_type": "code",
      "source": [
        "glove.most_similar('couch')"
      ],
      "metadata": {
        "colab": {
          "base_uri": "https://localhost:8080/"
        },
        "id": "QPXi9Nnz8Ik-",
        "outputId": "181d3898-5ca0-430d-fc24-3c64157f94ce"
      },
      "execution_count": null,
      "outputs": [
        {
          "output_type": "execute_result",
          "data": {
            "text/plain": [
              "[('sofa', 0.6295238733291626),\n",
              " ('couches', 0.5716592669487),\n",
              " ('comfy', 0.5274707674980164),\n",
              " ('sitting', 0.5219179391860962),\n",
              " ('lounging', 0.49838781356811523),\n",
              " ('cushions', 0.48835569620132446),\n",
              " ('armchair', 0.4837192893028259),\n",
              " ('bed', 0.4826846718788147),\n",
              " ('recliner', 0.4810296297073364),\n",
              " ('asleep', 0.4713967442512512)]"
            ]
          },
          "metadata": {},
          "execution_count": 8
        }
      ]
    },
    {
      "cell_type": "code",
      "source": [
        "glove.similarity('couch', 'sofa')"
      ],
      "metadata": {
        "colab": {
          "base_uri": "https://localhost:8080/"
        },
        "id": "7UqnSfLu8Khe",
        "outputId": "dd5ea476-260c-49fe-ac5a-57c9e9237a8c"
      },
      "execution_count": null,
      "outputs": [
        {
          "output_type": "execute_result",
          "data": {
            "text/plain": [
              "0.62952393"
            ]
          },
          "metadata": {},
          "execution_count": 9
        }
      ]
    },
    {
      "cell_type": "markdown",
      "source": [
        "### Sentence-BERT"
      ],
      "metadata": {
        "id": "8hKJNKo2PRJf"
      }
    },
    {
      "cell_type": "code",
      "source": [
        "!pip install -U sentence-transformers\n",
        "from sentence_transformers import SentenceTransformer, util\n",
        "model = SentenceTransformer('all-MiniLM-L6-v2')"
      ],
      "metadata": {
        "id": "PI3u4EH-Pqu2"
      },
      "execution_count": null,
      "outputs": []
    },
    {
      "cell_type": "code",
      "source": [
        "sentence1 = ['The couch is awesome!']\n",
        "sentence2 = ['What a nice sofa.']\n",
        "\n",
        "embedding1 = model.encode(sentence1, convert_to_tensor=True)\n",
        "embedding2 = model.encode(sentence2, convert_to_tensor=True)\n",
        "\n",
        "util.cos_sim(embedding1, embedding2)"
      ],
      "metadata": {
        "colab": {
          "base_uri": "https://localhost:8080/"
        },
        "id": "6GLCedhuQN_m",
        "outputId": "f3311ecb-0e74-4879-b64e-09be92e77ec2"
      },
      "execution_count": null,
      "outputs": [
        {
          "output_type": "execute_result",
          "data": {
            "text/plain": [
              "tensor([[0.6372]], device='cuda:0')"
            ]
          },
          "metadata": {},
          "execution_count": 16
        }
      ]
    },
    {
      "cell_type": "markdown",
      "source": [
        "### VADER"
      ],
      "metadata": {
        "id": "Yu4A3wXKUyR5"
      }
    },
    {
      "cell_type": "code",
      "source": [
        "!pip install vaderSentiment\n",
        "from vaderSentiment.vaderSentiment import SentimentIntensityAnalyzer"
      ],
      "metadata": {
        "id": "DnDBuTq3U1x2"
      },
      "execution_count": null,
      "outputs": []
    },
    {
      "cell_type": "code",
      "source": [
        "sentences = ['really cool, love it', \n",
        "             'To be or not to be',\n",
        "             'This is terrible!!']"
      ],
      "metadata": {
        "id": "8j6iAuSTVGh3"
      },
      "execution_count": 4,
      "outputs": []
    },
    {
      "cell_type": "code",
      "source": [
        "analyzer = SentimentIntensityAnalyzer()\n",
        "for sentence in sentences:\n",
        "    vs = analyzer.polarity_scores(sentence)\n",
        "    print(\"{:-<65} {}\".format(sentence, str(vs)))"
      ],
      "metadata": {
        "colab": {
          "base_uri": "https://localhost:8080/"
        },
        "id": "XS3t5_kjU73W",
        "outputId": "af166795-db7c-44fa-c943-f283e00191f6"
      },
      "execution_count": 5,
      "outputs": [
        {
          "output_type": "stream",
          "name": "stdout",
          "text": [
            "really cool, love it--------------------------------------------- {'neg': 0.0, 'neu': 0.22, 'pos': 0.78, 'compound': 0.7947}\n",
            "To be or not to be----------------------------------------------- {'neg': 0.0, 'neu': 1.0, 'pos': 0.0, 'compound': 0.0}\n",
            "This is terrible!!----------------------------------------------- {'neg': 0.648, 'neu': 0.352, 'pos': 0.0, 'compound': -0.5696}\n"
          ]
        }
      ]
    },
    {
      "cell_type": "markdown",
      "source": [
        "### Zero-shot classification"
      ],
      "metadata": {
        "id": "Ph5sKc7hXBQ9"
      }
    },
    {
      "cell_type": "code",
      "source": [
        "!pip install transformers"
      ],
      "metadata": {
        "id": "s85iHHpyXi8t"
      },
      "execution_count": null,
      "outputs": []
    },
    {
      "cell_type": "code",
      "source": [
        "from transformers import pipeline\n",
        "classifier = pipeline(\"zero-shot-classification\", model=\"facebook/bart-large-mnli\")"
      ],
      "metadata": {
        "id": "6HX846o8XIdZ"
      },
      "execution_count": null,
      "outputs": []
    },
    {
      "cell_type": "code",
      "source": [
        "sequence1 = \"What a great product\"\n",
        "sequence2 = \"What a shitty product\"\n",
        "candidate_labels = ['positive', 'negative']"
      ],
      "metadata": {
        "id": "oHTgwBAmXmeF"
      },
      "execution_count": null,
      "outputs": []
    },
    {
      "cell_type": "code",
      "source": [
        "classifier(sequence1, candidate_labels)"
      ],
      "metadata": {
        "colab": {
          "base_uri": "https://localhost:8080/"
        },
        "id": "7iOLAzgSX6bx",
        "outputId": "1f0941a7-8067-4761-aabd-1d580c7fd41a"
      },
      "execution_count": null,
      "outputs": [
        {
          "output_type": "execute_result",
          "data": {
            "text/plain": [
              "{'labels': ['positive', 'negative'],\n",
              " 'scores': [0.9976462721824646, 0.0023537033703178167],\n",
              " 'sequence': 'What a great product'}"
            ]
          },
          "metadata": {},
          "execution_count": 18
        }
      ]
    },
    {
      "cell_type": "code",
      "source": [
        "classifier(sequence2, candidate_labels)"
      ],
      "metadata": {
        "colab": {
          "base_uri": "https://localhost:8080/"
        },
        "id": "Lr4GbNWXYcQF",
        "outputId": "0f7c5df4-6e87-4384-de0a-1303fb19aba8"
      },
      "execution_count": null,
      "outputs": [
        {
          "output_type": "execute_result",
          "data": {
            "text/plain": [
              "{'labels': ['negative', 'positive'],\n",
              " 'scores': [0.9989504218101501, 0.0010495946044102311],\n",
              " 'sequence': 'What a shitty product'}"
            ]
          },
          "metadata": {},
          "execution_count": 19
        }
      ]
    },
    {
      "cell_type": "code",
      "source": [
        "classifier(\"We need to sell more stuff\", ['marketing', 'sales', 'computer science'], multi_label = True)"
      ],
      "metadata": {
        "colab": {
          "base_uri": "https://localhost:8080/"
        },
        "id": "K7-nSXrNbEVw",
        "outputId": "1ea1911d-6758-44a5-dbc1-9bd1b3cc5e85"
      },
      "execution_count": null,
      "outputs": [
        {
          "output_type": "execute_result",
          "data": {
            "text/plain": [
              "{'labels': ['sales', 'marketing', 'computer science'],\n",
              " 'scores': [0.9904853105545044, 0.9404631853103638, 0.012987233698368073],\n",
              " 'sequence': 'We need to sell more stuff'}"
            ]
          },
          "metadata": {},
          "execution_count": 25
        }
      ]
    },
    {
      "cell_type": "markdown",
      "source": [
        "### Named entity recognition"
      ],
      "metadata": {
        "id": "ON6vYPoLji4i"
      }
    },
    {
      "cell_type": "markdown",
      "source": [
        "**Option 1:** flair library"
      ],
      "metadata": {
        "id": "YlqfAYIPyR2T"
      }
    },
    {
      "cell_type": "code",
      "source": [
        "!pip install flair"
      ],
      "metadata": {
        "id": "9phZD0tQjo7R"
      },
      "execution_count": null,
      "outputs": []
    },
    {
      "cell_type": "code",
      "source": [
        "from flair.data import Sentence\n",
        "from flair.models import SequenceTagger"
      ],
      "metadata": {
        "id": "uri65UzGj9Ve"
      },
      "execution_count": null,
      "outputs": []
    },
    {
      "cell_type": "code",
      "source": [
        "tagger = SequenceTagger.load(\"flair/ner-english\")\n",
        "sentence = Sentence(\"George Washington went to Washington\")\n",
        "tagger.predict(sentence)"
      ],
      "metadata": {
        "id": "VPfDMbVAj-NX"
      },
      "execution_count": null,
      "outputs": []
    },
    {
      "cell_type": "code",
      "source": [
        "for entity in sentence.get_spans('ner'):\n",
        "    print(entity)"
      ],
      "metadata": {
        "colab": {
          "base_uri": "https://localhost:8080/"
        },
        "id": "e0tC4MXHkdHT",
        "outputId": "3d2fa90c-62c9-406c-f649-c48e1b37b64b"
      },
      "execution_count": null,
      "outputs": [
        {
          "output_type": "stream",
          "name": "stdout",
          "text": [
            "Span [1,2]: \"George Washington\"   [− Labels: PER (0.9985)]\n",
            "Span [5]: \"Washington\"   [− Labels: LOC (0.9706)]\n"
          ]
        }
      ]
    },
    {
      "cell_type": "markdown",
      "source": [
        "**Option 2:** transformers library"
      ],
      "metadata": {
        "id": "qp44ZtrRyfv1"
      }
    },
    {
      "cell_type": "code",
      "source": [
        "from transformers import AutoTokenizer, AutoModelForTokenClassification\n",
        "from transformers import pipeline\n",
        "import pandas as pd\n",
        "\n",
        "tokenizer = AutoTokenizer.from_pretrained(\"dslim/bert-base-NER\")\n",
        "model = AutoModelForTokenClassification.from_pretrained(\"dslim/bert-base-NER\")"
      ],
      "metadata": {
        "id": "c1DDrnlek7Cv"
      },
      "execution_count": null,
      "outputs": []
    },
    {
      "cell_type": "code",
      "source": [
        "nlp = pipeline(\"ner\", model=model, tokenizer=tokenizer)\n",
        "example = \"George Washington went to Washington\"\n",
        "\n",
        "ner_results = nlp(example)\n",
        "pd.DataFrame(ner_results)"
      ],
      "metadata": {
        "colab": {
          "base_uri": "https://localhost:8080/",
          "height": 144
        },
        "id": "CDOK5GTolKFU",
        "outputId": "6c7f2aca-7ffb-4543-9bc2-480077a582cc"
      },
      "execution_count": null,
      "outputs": [
        {
          "output_type": "execute_result",
          "data": {
            "text/html": [
              "\n",
              "  <div id=\"df-f78559dd-b1b1-4544-b3fd-107333b048d3\">\n",
              "    <div class=\"colab-df-container\">\n",
              "      <div>\n",
              "<style scoped>\n",
              "    .dataframe tbody tr th:only-of-type {\n",
              "        vertical-align: middle;\n",
              "    }\n",
              "\n",
              "    .dataframe tbody tr th {\n",
              "        vertical-align: top;\n",
              "    }\n",
              "\n",
              "    .dataframe thead th {\n",
              "        text-align: right;\n",
              "    }\n",
              "</style>\n",
              "<table border=\"1\" class=\"dataframe\">\n",
              "  <thead>\n",
              "    <tr style=\"text-align: right;\">\n",
              "      <th></th>\n",
              "      <th>entity</th>\n",
              "      <th>score</th>\n",
              "      <th>index</th>\n",
              "      <th>word</th>\n",
              "      <th>start</th>\n",
              "      <th>end</th>\n",
              "    </tr>\n",
              "  </thead>\n",
              "  <tbody>\n",
              "    <tr>\n",
              "      <th>0</th>\n",
              "      <td>B-PER</td>\n",
              "      <td>0.998344</td>\n",
              "      <td>1</td>\n",
              "      <td>George</td>\n",
              "      <td>0</td>\n",
              "      <td>6</td>\n",
              "    </tr>\n",
              "    <tr>\n",
              "      <th>1</th>\n",
              "      <td>I-PER</td>\n",
              "      <td>0.991562</td>\n",
              "      <td>2</td>\n",
              "      <td>Washington</td>\n",
              "      <td>7</td>\n",
              "      <td>17</td>\n",
              "    </tr>\n",
              "    <tr>\n",
              "      <th>2</th>\n",
              "      <td>B-LOC</td>\n",
              "      <td>0.999099</td>\n",
              "      <td>5</td>\n",
              "      <td>Washington</td>\n",
              "      <td>26</td>\n",
              "      <td>36</td>\n",
              "    </tr>\n",
              "  </tbody>\n",
              "</table>\n",
              "</div>\n",
              "      <button class=\"colab-df-convert\" onclick=\"convertToInteractive('df-f78559dd-b1b1-4544-b3fd-107333b048d3')\"\n",
              "              title=\"Convert this dataframe to an interactive table.\"\n",
              "              style=\"display:none;\">\n",
              "        \n",
              "  <svg xmlns=\"http://www.w3.org/2000/svg\" height=\"24px\"viewBox=\"0 0 24 24\"\n",
              "       width=\"24px\">\n",
              "    <path d=\"M0 0h24v24H0V0z\" fill=\"none\"/>\n",
              "    <path d=\"M18.56 5.44l.94 2.06.94-2.06 2.06-.94-2.06-.94-.94-2.06-.94 2.06-2.06.94zm-11 1L8.5 8.5l.94-2.06 2.06-.94-2.06-.94L8.5 2.5l-.94 2.06-2.06.94zm10 10l.94 2.06.94-2.06 2.06-.94-2.06-.94-.94-2.06-.94 2.06-2.06.94z\"/><path d=\"M17.41 7.96l-1.37-1.37c-.4-.4-.92-.59-1.43-.59-.52 0-1.04.2-1.43.59L10.3 9.45l-7.72 7.72c-.78.78-.78 2.05 0 2.83L4 21.41c.39.39.9.59 1.41.59.51 0 1.02-.2 1.41-.59l7.78-7.78 2.81-2.81c.8-.78.8-2.07 0-2.86zM5.41 20L4 18.59l7.72-7.72 1.47 1.35L5.41 20z\"/>\n",
              "  </svg>\n",
              "      </button>\n",
              "      \n",
              "  <style>\n",
              "    .colab-df-container {\n",
              "      display:flex;\n",
              "      flex-wrap:wrap;\n",
              "      gap: 12px;\n",
              "    }\n",
              "\n",
              "    .colab-df-convert {\n",
              "      background-color: #E8F0FE;\n",
              "      border: none;\n",
              "      border-radius: 50%;\n",
              "      cursor: pointer;\n",
              "      display: none;\n",
              "      fill: #1967D2;\n",
              "      height: 32px;\n",
              "      padding: 0 0 0 0;\n",
              "      width: 32px;\n",
              "    }\n",
              "\n",
              "    .colab-df-convert:hover {\n",
              "      background-color: #E2EBFA;\n",
              "      box-shadow: 0px 1px 2px rgba(60, 64, 67, 0.3), 0px 1px 3px 1px rgba(60, 64, 67, 0.15);\n",
              "      fill: #174EA6;\n",
              "    }\n",
              "\n",
              "    [theme=dark] .colab-df-convert {\n",
              "      background-color: #3B4455;\n",
              "      fill: #D2E3FC;\n",
              "    }\n",
              "\n",
              "    [theme=dark] .colab-df-convert:hover {\n",
              "      background-color: #434B5C;\n",
              "      box-shadow: 0px 1px 3px 1px rgba(0, 0, 0, 0.15);\n",
              "      filter: drop-shadow(0px 1px 2px rgba(0, 0, 0, 0.3));\n",
              "      fill: #FFFFFF;\n",
              "    }\n",
              "  </style>\n",
              "\n",
              "      <script>\n",
              "        const buttonEl =\n",
              "          document.querySelector('#df-f78559dd-b1b1-4544-b3fd-107333b048d3 button.colab-df-convert');\n",
              "        buttonEl.style.display =\n",
              "          google.colab.kernel.accessAllowed ? 'block' : 'none';\n",
              "\n",
              "        async function convertToInteractive(key) {\n",
              "          const element = document.querySelector('#df-f78559dd-b1b1-4544-b3fd-107333b048d3');\n",
              "          const dataTable =\n",
              "            await google.colab.kernel.invokeFunction('convertToInteractive',\n",
              "                                                     [key], {});\n",
              "          if (!dataTable) return;\n",
              "\n",
              "          const docLinkHtml = 'Like what you see? Visit the ' +\n",
              "            '<a target=\"_blank\" href=https://colab.research.google.com/notebooks/data_table.ipynb>data table notebook</a>'\n",
              "            + ' to learn more about interactive tables.';\n",
              "          element.innerHTML = '';\n",
              "          dataTable['output_type'] = 'display_data';\n",
              "          await google.colab.output.renderOutput(dataTable, element);\n",
              "          const docLink = document.createElement('div');\n",
              "          docLink.innerHTML = docLinkHtml;\n",
              "          element.appendChild(docLink);\n",
              "        }\n",
              "      </script>\n",
              "    </div>\n",
              "  </div>\n",
              "  "
            ],
            "text/plain": [
              "  entity     score  index        word  start  end\n",
              "0  B-PER  0.998344      1      George      0    6\n",
              "1  I-PER  0.991562      2  Washington      7   17\n",
              "2  B-LOC  0.999099      5  Washington     26   36"
            ]
          },
          "metadata": {},
          "execution_count": 39
        }
      ]
    },
    {
      "cell_type": "code",
      "source": [
        "https://colab.research.google.com/github/nlp-with-transformers/notebooks/blob/main/01_introduction.ipynb#scrollTo=mwJyTlMWdSys\n",
        "https://colab.research.google.com/github/nlp-with-transformers/notebooks/blob/main/11_future-directions.ipynb#scrollTo=wicked-flight"
      ],
      "metadata": {
        "id": "2AOxY6FszBIB"
      },
      "execution_count": null,
      "outputs": []
    },
    {
      "cell_type": "markdown",
      "source": [
        "**SOURCES:** \n",
        "*   https://radimrehurek.com/gensim/models/word2vec.html\n",
        "*   https://github.com/RaRe-Technologies/gensim-data\n",
        "*   https://web.stanford.edu/~jurafsky/slp3/\n",
        "*   https://www.sbert.net/docs/usage/semantic_textual_similarity.html\n",
        "*   https://huggingface.co/facebook/bart-large-mnli\n",
        "*   https://huggingface.co/flair/ner-english\n",
        "*   https://huggingface.co/dslim/bert-base-NER\n",
        "*   https://github.com/cjhutto/vaderSentiment\n",
        "\n"
      ],
      "metadata": {
        "id": "0S-EQqiUB8Ne"
      }
    },
    {
      "cell_type": "markdown",
      "source": [
        "### The End"
      ],
      "metadata": {
        "id": "WP_bk2hd8YqL"
      }
    }
  ]
}