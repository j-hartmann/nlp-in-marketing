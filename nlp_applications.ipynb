{
  "nbformat": 4,
  "nbformat_minor": 0,
  "metadata": {
    "colab": {
      "name": "nlp_applications.ipynb",
      "provenance": [],
      "collapsed_sections": [],
      "authorship_tag": "ABX9TyPLFRBzcC/53vRKCfSbc4ZM",
      "include_colab_link": true
    },
    "kernelspec": {
      "name": "python3",
      "display_name": "Python 3"
    },
    "language_info": {
      "name": "python"
    },
    "accelerator": "GPU"
  },
  "cells": [
    {
      "cell_type": "markdown",
      "metadata": {
        "id": "view-in-github",
        "colab_type": "text"
      },
      "source": [
        "<a href=\"https://colab.research.google.com/github/j-hartmann/nlp-in-marketing/blob/main/nlp_applications.ipynb\" target=\"_parent\"><img src=\"https://colab.research.google.com/assets/colab-badge.svg\" alt=\"Open In Colab\"/></a>"
      ]
    },
    {
      "cell_type": "markdown",
      "source": [
        "# Natural Language Processing in Marketing\n",
        "Oded Netzer (Columbia University) & Jochen Hartmann (University of Groningen)"
      ],
      "metadata": {
        "id": "e_xTiZK0BXYO"
      }
    },
    {
      "cell_type": "markdown",
      "source": [
        "## *Embeddings and vector semantics*"
      ],
      "metadata": {
        "id": "EPyOiTQVBb1d"
      }
    },
    {
      "cell_type": "code",
      "execution_count": null,
      "metadata": {
        "id": "utPHlTQ4xtBL"
      },
      "outputs": [],
      "source": [
        "import gensim.downloader"
      ]
    },
    {
      "cell_type": "markdown",
      "source": [
        "### word2vec"
      ],
      "metadata": {
        "id": "8M7NuJ7t8ReU"
      }
    },
    {
      "cell_type": "code",
      "source": [
        "w2v = gensim.downloader.load('word2vec-google-news-300')"
      ],
      "metadata": {
        "colab": {
          "base_uri": "https://localhost:8080/"
        },
        "id": "mPiVcMm7xwN6",
        "outputId": "c51e47ba-1499-4870-a28c-6a11b84e24c8"
      },
      "execution_count": null,
      "outputs": [
        {
          "output_type": "stream",
          "name": "stdout",
          "text": [
            "[==================================================] 100.0% 1662.8/1662.8MB downloaded\n"
          ]
        }
      ]
    },
    {
      "cell_type": "code",
      "source": [
        "w2v.most_similar('sofa')"
      ],
      "metadata": {
        "colab": {
          "base_uri": "https://localhost:8080/"
        },
        "id": "2bTquwpTxyy3",
        "outputId": "85d681bf-6470-444e-97d4-eea2728975cf"
      },
      "execution_count": null,
      "outputs": [
        {
          "output_type": "execute_result",
          "data": {
            "text/plain": [
              "[('couch', 0.8309178352355957),\n",
              " ('settee', 0.7764685750007629),\n",
              " ('sofas', 0.7543261051177979),\n",
              " ('loveseat', 0.7152645587921143),\n",
              " ('recliner', 0.7101271152496338),\n",
              " ('futon', 0.6624690294265747),\n",
              " ('leather_sofa', 0.6620596647262573),\n",
              " ('plush_sofa', 0.6556485295295715),\n",
              " ('ottoman', 0.6525834798812866),\n",
              " ('couches', 0.6501914262771606)]"
            ]
          },
          "metadata": {},
          "execution_count": 3
        }
      ]
    },
    {
      "cell_type": "code",
      "source": [
        "w2v.most_similar('couch')"
      ],
      "metadata": {
        "colab": {
          "base_uri": "https://localhost:8080/"
        },
        "id": "4QtLNnan4mhv",
        "outputId": "e97333ef-8f15-44ff-f2bc-88b746dc0dcf"
      },
      "execution_count": null,
      "outputs": [
        {
          "output_type": "execute_result",
          "data": {
            "text/plain": [
              "[('sofa', 0.8309179544448853),\n",
              " ('recliner', 0.7366936802864075),\n",
              " ('couches', 0.7016552090644836),\n",
              " ('comfy_couch', 0.6747691035270691),\n",
              " ('futon', 0.6523739695549011),\n",
              " ('al_Jabouri_slept', 0.6240309476852417),\n",
              " ('loveseat', 0.617920994758606),\n",
              " ('beanbag_chair', 0.616889476776123),\n",
              " ('recliner_chair', 0.6121512055397034),\n",
              " ('settee', 0.6086535453796387)]"
            ]
          },
          "metadata": {},
          "execution_count": 4
        }
      ]
    },
    {
      "cell_type": "code",
      "source": [
        "w2v.similarity('couch', 'sofa')"
      ],
      "metadata": {
        "colab": {
          "base_uri": "https://localhost:8080/"
        },
        "id": "QPGWDGd11_df",
        "outputId": "bcc9dee2-ea6d-4efd-8c27-e31256641354"
      },
      "execution_count": null,
      "outputs": [
        {
          "output_type": "execute_result",
          "data": {
            "text/plain": [
              "0.8309179"
            ]
          },
          "metadata": {},
          "execution_count": 5
        }
      ]
    },
    {
      "cell_type": "markdown",
      "source": [
        "### GloVe"
      ],
      "metadata": {
        "id": "VeREm0dr8N7M"
      }
    },
    {
      "cell_type": "code",
      "source": [
        "glove = gensim.downloader.load('glove-wiki-gigaword-300')"
      ],
      "metadata": {
        "colab": {
          "base_uri": "https://localhost:8080/"
        },
        "id": "JhjCaiam8VOR",
        "outputId": "ada3cb18-fa51-4c2e-a3a4-ee3e959f81cd"
      },
      "execution_count": null,
      "outputs": [
        {
          "output_type": "stream",
          "name": "stdout",
          "text": [
            "[==================================================] 100.0% 376.1/376.1MB downloaded\n"
          ]
        }
      ]
    },
    {
      "cell_type": "code",
      "source": [
        "glove.most_similar('sofa')"
      ],
      "metadata": {
        "colab": {
          "base_uri": "https://localhost:8080/"
        },
        "id": "D4ky50Rq8GWu",
        "outputId": "dccc56e2-7e1e-4c2d-fd20-7faf9ad3c103"
      },
      "execution_count": null,
      "outputs": [
        {
          "output_type": "execute_result",
          "data": {
            "text/plain": [
              "[('sofas', 0.6412794589996338),\n",
              " ('couch', 0.6295238733291626),\n",
              " ('couches', 0.5816987752914429),\n",
              " ('cushions', 0.5553663969039917),\n",
              " ('upholstered', 0.5553508996963501),\n",
              " ('comfy', 0.5491216778755188),\n",
              " ('armchairs', 0.5384072065353394),\n",
              " ('pillows', 0.514901876449585),\n",
              " ('recliner', 0.5056697130203247),\n",
              " ('overstuffed', 0.49476155638694763)]"
            ]
          },
          "metadata": {},
          "execution_count": 7
        }
      ]
    },
    {
      "cell_type": "code",
      "source": [
        "glove.most_similar('couch')"
      ],
      "metadata": {
        "colab": {
          "base_uri": "https://localhost:8080/"
        },
        "id": "QPXi9Nnz8Ik-",
        "outputId": "181d3898-5ca0-430d-fc24-3c64157f94ce"
      },
      "execution_count": null,
      "outputs": [
        {
          "output_type": "execute_result",
          "data": {
            "text/plain": [
              "[('sofa', 0.6295238733291626),\n",
              " ('couches', 0.5716592669487),\n",
              " ('comfy', 0.5274707674980164),\n",
              " ('sitting', 0.5219179391860962),\n",
              " ('lounging', 0.49838781356811523),\n",
              " ('cushions', 0.48835569620132446),\n",
              " ('armchair', 0.4837192893028259),\n",
              " ('bed', 0.4826846718788147),\n",
              " ('recliner', 0.4810296297073364),\n",
              " ('asleep', 0.4713967442512512)]"
            ]
          },
          "metadata": {},
          "execution_count": 8
        }
      ]
    },
    {
      "cell_type": "code",
      "source": [
        "glove.similarity('couch', 'sofa')"
      ],
      "metadata": {
        "colab": {
          "base_uri": "https://localhost:8080/"
        },
        "id": "7UqnSfLu8Khe",
        "outputId": "dd5ea476-260c-49fe-ac5a-57c9e9237a8c"
      },
      "execution_count": null,
      "outputs": [
        {
          "output_type": "execute_result",
          "data": {
            "text/plain": [
              "0.62952393"
            ]
          },
          "metadata": {},
          "execution_count": 9
        }
      ]
    },
    {
      "cell_type": "markdown",
      "source": [
        "### Sentence-BERT"
      ],
      "metadata": {
        "id": "8hKJNKo2PRJf"
      }
    },
    {
      "cell_type": "code",
      "source": [
        "!pip install -U sentence-transformers\n",
        "from sentence_transformers import SentenceTransformer, util\n",
        "model = SentenceTransformer('all-MiniLM-L6-v2')"
      ],
      "metadata": {
        "id": "PI3u4EH-Pqu2"
      },
      "execution_count": null,
      "outputs": []
    },
    {
      "cell_type": "code",
      "source": [
        "sentence1 = ['The couch is awesome!']\n",
        "sentence2 = ['What a nice sofa.']\n",
        "\n",
        "embedding1 = model.encode(sentence1, convert_to_tensor=True)\n",
        "embedding2 = model.encode(sentence2, convert_to_tensor=True)\n",
        "\n",
        "util.cos_sim(embedding1, embedding2)"
      ],
      "metadata": {
        "colab": {
          "base_uri": "https://localhost:8080/"
        },
        "id": "6GLCedhuQN_m",
        "outputId": "f3311ecb-0e74-4879-b64e-09be92e77ec2"
      },
      "execution_count": 16,
      "outputs": [
        {
          "output_type": "execute_result",
          "data": {
            "text/plain": [
              "tensor([[0.6372]], device='cuda:0')"
            ]
          },
          "metadata": {},
          "execution_count": 16
        }
      ]
    },
    {
      "cell_type": "markdown",
      "source": [
        "**SOURCES:** \n",
        "*   https://radimrehurek.com/gensim/models/word2vec.html\n",
        "*   https://github.com/RaRe-Technologies/gensim-data\n",
        "*   https://web.stanford.edu/~jurafsky/slp3/\n",
        "*   https://www.sbert.net/docs/usage/semantic_textual_similarity.html\n",
        "\n"
      ],
      "metadata": {
        "id": "0S-EQqiUB8Ne"
      }
    },
    {
      "cell_type": "markdown",
      "source": [
        "### The End"
      ],
      "metadata": {
        "id": "WP_bk2hd8YqL"
      }
    }
  ]
}